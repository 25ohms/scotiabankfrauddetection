{
 "cells": [
  {
   "cell_type": "code",
   "execution_count": 61,
   "metadata": {},
   "outputs": [
    {
     "data": {
      "text/plain": [
       "['/Users/sahal/Documents/code/scotiabankfrauddetection',\n",
       " '/Users/sahal/.vscode/extensions/ms-toolsai.jupyter-2022.11.1003412109/pythonFiles',\n",
       " '/Users/sahal/.vscode/extensions/ms-toolsai.jupyter-2022.11.1003412109/pythonFiles/lib/python',\n",
       " '/Users/sahal/miniconda3/envs/tf/lib/python310.zip',\n",
       " '/Users/sahal/miniconda3/envs/tf/lib/python3.10',\n",
       " '/Users/sahal/miniconda3/envs/tf/lib/python3.10/lib-dynload',\n",
       " '',\n",
       " '/Users/sahal/miniconda3/envs/tf/lib/python3.10/site-packages']"
      ]
     },
     "execution_count": 61,
     "metadata": {},
     "output_type": "execute_result"
    }
   ],
   "source": [
    "import sys; sys.path"
   ]
  },
  {
   "attachments": {},
   "cell_type": "markdown",
   "metadata": {},
   "source": [
    "Imports that we are using"
   ]
  },
  {
   "cell_type": "code",
   "execution_count": 62,
   "metadata": {},
   "outputs": [],
   "source": [
    "import os \n",
    "import warnings\n",
    "\n",
    "import numpy as np\n",
    "import tensorflow as tf\n",
    "import pandas as pd\n",
    "from pandas import Series, DataFrame\n",
    "from sklearn.preprocessing import StandardScaler\n",
    "from sklearn import decomposition\n",
    "\n",
    "\n",
    "#visuals\n",
    "import seaborn as sns\n",
    "import matplotlib.pyplot as plt\n"
   ]
  },
  {
   "attachments": {},
   "cell_type": "markdown",
   "metadata": {},
   "source": [
    "Checking to see that tensorflow works. Your output should contain a tf.tensor"
   ]
  },
  {
   "cell_type": "code",
   "execution_count": 63,
   "metadata": {},
   "outputs": [
    {
     "name": "stdout",
     "output_type": "stream",
     "text": [
      "tf.Tensor(887.69824, shape=(), dtype=float32)\n"
     ]
    }
   ],
   "source": [
    "print(tf.reduce_sum(tf.random.normal([1000, 1000])))"
   ]
  },
  {
   "attachments": {},
   "cell_type": "markdown",
   "metadata": {},
   "source": [
    "Preliminary Graphing"
   ]
  },
  {
   "cell_type": "code",
   "execution_count": 64,
   "metadata": {},
   "outputs": [],
   "source": [
    "#Loading the dataset - abel\n",
    "url = \"https://raw.githubusercontent.com/25ohms/scotiabankfrauddetection/main/Winter%202023%20Discovery%20Days/train_ScotiaDSD.csv\"\n",
    "data = pd.read_csv(url)\n",
    "\n",
    "\n",
    "\n",
    "\n",
    "credible_data = data[data['FRAUD_FLAG'] == 0.0] \n",
    "fraudulent_data = data[data['FRAUD_FLAG'] == 1.0]"
   ]
  },
  {
   "cell_type": "code",
   "execution_count": 65,
   "metadata": {},
   "outputs": [
    {
     "name": "stdout",
     "output_type": "stream",
     "text": [
      "   EVENT_MONTH  EVENT_DAY_OF_WEEK EVENT_TIME TRANSACTION_ID  FRAUD_FLAG  \\\n",
      "1            2                  4      12:51       8352728b         0.0   \n",
      "2            2                  4      15:26       d50120e1         0.0   \n",
      "3            2                  4      16:19       e96e2139         0.0   \n",
      "4            2                  4      8:15:       32502a99         0.0   \n",
      "5            2                  4      16:27       1b4856fb         0.0   \n",
      "\n",
      "   AVAIL_CRDT  AMOUNT  CREDIT_LIMIT  CARD_NOT_PRESENT  \\\n",
      "1    20371.88   96.35       30700.0                 1   \n",
      "2    15628.17  193.72       19500.0                 0   \n",
      "3    12913.98   47.15       18400.0                 0   \n",
      "4    26779.35  121.88       29200.0                 1   \n",
      "5    27484.35    6.83       30700.0                 0   \n",
      "\n",
      "                                          USER_AGENT  ...  \\\n",
      "1  Mozilla/5.0 (iPhone; CPU OS 16_0 like Mac OS X...  ...   \n",
      "2                                                NaN  ...   \n",
      "3                                                NaN  ...   \n",
      "4  Mozilla/5.0 (iPhone; CPU OS 16_0 like Mac OS X...  ...   \n",
      "5                                                NaN  ...   \n",
      "\n",
      "  COUNT_LOW_AMT_PAST_30DAY  COUNT_MANUAL_ENTRY_PAST_30DAY  \\\n",
      "1                        1                             50   \n",
      "2                        9                              3   \n",
      "3                        4                              7   \n",
      "4                       11                              6   \n",
      "5                       11                              1   \n",
      "\n",
      "   COUNT_PHONE_ORDER_PAST_30DAY  COUNT_PURCHASE_EXCLUDING_GAS_PAST_30DAY  \\\n",
      "1                            93                                       93   \n",
      "2                            42                                       42   \n",
      "3                            75                                       72   \n",
      "4                            41                                       42   \n",
      "5                            55                                       53   \n",
      "\n",
      "   COUNT_PLANNED_PAST_30DAY  COUNT_SWIPE_PAST_30DAY  \\\n",
      "1                         0                       0   \n",
      "2                         2                      33   \n",
      "3                        12                      61   \n",
      "4                        10                      30   \n",
      "5                         7                      51   \n",
      "\n",
      "   COUNT_TRAVEL_AND_ENTERTAINMENT_PAST_30DAY  COUNT_WEEKEND_PAST_30DAY  \\\n",
      "1                                          0                         0   \n",
      "2                                          0                        12   \n",
      "3                                          0                        20   \n",
      "4                                          4                        16   \n",
      "5                                          0                        20   \n",
      "\n",
      "   PREV_M_INFLATION  PREV_M_UNEMP_RATE  \n",
      "1               1.1                5.7  \n",
      "2               1.1                5.7  \n",
      "3               1.1                5.7  \n",
      "4               1.1                5.7  \n",
      "5               1.1                5.7  \n",
      "\n",
      "[5 rows x 175 columns]\n"
     ]
    }
   ],
   "source": [
    "print(credible_data.head())"
   ]
  },
  {
   "cell_type": "code",
   "execution_count": 66,
   "metadata": {},
   "outputs": [
    {
     "name": "stdout",
     "output_type": "stream",
     "text": [
      "     EVENT_MONTH  EVENT_DAY_OF_WEEK EVENT_TIME TRANSACTION_ID  FRAUD_FLAG  \\\n",
      "0              2                  4      14:16       a316accb         1.0   \n",
      "24             2                  4      20:02       5fcc42f8         1.0   \n",
      "36             2                  4      19:59       0d060041         1.0   \n",
      "38             2                  4      12:30       74bbbe44         1.0   \n",
      "132            2                  4      16:28       c264fb24         1.0   \n",
      "\n",
      "     AVAIL_CRDT  AMOUNT  CREDIT_LIMIT  CARD_NOT_PRESENT  \\\n",
      "0        537.10   11.70       29200.0                 1   \n",
      "24      9016.80   50.23       21400.0                 1   \n",
      "36      3135.47   41.00       19500.0                 1   \n",
      "38       674.70  161.95        1000.0                 1   \n",
      "132     1314.30   44.08        5100.0                 1   \n",
      "\n",
      "                                            USER_AGENT  ...  \\\n",
      "0                                                  NaN  ...   \n",
      "24   Mozilla/5.0 (Windows NT 10.0; Win64; x64; rv:1...  ...   \n",
      "36   Mozilla/5.0 (Linux; U; Android 11; en-CA; moto...  ...   \n",
      "38   Mozilla/5.0 (iPhone; CPU OS 15_6_1 like Mac OS...  ...   \n",
      "132                                                NaN  ...   \n",
      "\n",
      "    COUNT_LOW_AMT_PAST_30DAY  COUNT_MANUAL_ENTRY_PAST_30DAY  \\\n",
      "0                         16                             39   \n",
      "24                        11                              2   \n",
      "36                         3                              2   \n",
      "38                         0                              0   \n",
      "132                        0                              2   \n",
      "\n",
      "     COUNT_PHONE_ORDER_PAST_30DAY  COUNT_PURCHASE_EXCLUDING_GAS_PAST_30DAY  \\\n",
      "0                              73                                       60   \n",
      "24                             16                                       16   \n",
      "36                             11                                       11   \n",
      "38                              0                                        0   \n",
      "132                             3                                        3   \n",
      "\n",
      "     COUNT_PLANNED_PAST_30DAY  COUNT_SWIPE_PAST_30DAY  \\\n",
      "0                          13                      22   \n",
      "24                          1                       0   \n",
      "36                          1                       1   \n",
      "38                          0                       0   \n",
      "132                         0                       0   \n",
      "\n",
      "     COUNT_TRAVEL_AND_ENTERTAINMENT_PAST_30DAY  COUNT_WEEKEND_PAST_30DAY  \\\n",
      "0                                            4                        14   \n",
      "24                                           0                         8   \n",
      "36                                           0                         1   \n",
      "38                                           0                         0   \n",
      "132                                          0                         0   \n",
      "\n",
      "     PREV_M_INFLATION  PREV_M_UNEMP_RATE  \n",
      "0                 1.1                5.7  \n",
      "24                1.1                5.7  \n",
      "36                1.1                5.7  \n",
      "38                1.1                5.7  \n",
      "132               1.1                5.7  \n",
      "\n",
      "[5 rows x 175 columns]\n"
     ]
    }
   ],
   "source": [
    "print(fraudulent_data.head())"
   ]
  },
  {
   "attachments": {},
   "cell_type": "markdown",
   "metadata": {},
   "source": [
    "Checking to see if Data is null"
   ]
  },
  {
   "cell_type": "code",
   "execution_count": 67,
   "metadata": {},
   "outputs": [
    {
     "data": {
      "text/html": [
       "<div>\n",
       "<style scoped>\n",
       "    .dataframe tbody tr th:only-of-type {\n",
       "        vertical-align: middle;\n",
       "    }\n",
       "\n",
       "    .dataframe tbody tr th {\n",
       "        vertical-align: top;\n",
       "    }\n",
       "\n",
       "    .dataframe thead th {\n",
       "        text-align: right;\n",
       "    }\n",
       "</style>\n",
       "<table border=\"1\" class=\"dataframe\">\n",
       "  <thead>\n",
       "    <tr style=\"text-align: right;\">\n",
       "      <th></th>\n",
       "      <th>USER_AGENT</th>\n",
       "      <th>CITY</th>\n",
       "      <th>EVENT_MONTH</th>\n",
       "      <th>MAX_PHONE_ORDER_PAST_30DAY</th>\n",
       "      <th>MEAN_TRAVEL_AND_ENTERTAINMENT_PAST_30DAY</th>\n",
       "      <th>MEAN_WEEKEND_PAST_30DAY</th>\n",
       "      <th>MAX_AUTO_PAST_30DAY</th>\n",
       "      <th>MAX_LS_PAST_30DAY</th>\n",
       "      <th>MAX_ELCTRNCS_PAST_30DAY</th>\n",
       "      <th>MAX_FASTFOOD_PAST_30DAY</th>\n",
       "      <th>...</th>\n",
       "      <th>MAX_RECREA_PAST_7DAY</th>\n",
       "      <th>MAX_HIGH_AMT_PAST_7DAY</th>\n",
       "      <th>MAX_HIGH_RECREA_PAST_7DAY</th>\n",
       "      <th>MAX_INTERNET_PAST_7DAY</th>\n",
       "      <th>MAX_PHONE_ORDER_PAST_7DAY</th>\n",
       "      <th>MAX_PURCHASE_EXCLUDING_GAS_PAST_7DAY</th>\n",
       "      <th>MAX_SWIPE_PAST_7DAY</th>\n",
       "      <th>MAX_WEEKEND_PAST_7DAY</th>\n",
       "      <th>STD_LX_PAST_7DAY</th>\n",
       "      <th>PREV_M_UNEMP_RATE</th>\n",
       "    </tr>\n",
       "  </thead>\n",
       "  <tbody>\n",
       "    <tr>\n",
       "      <th>Total</th>\n",
       "      <td>77322.000000</td>\n",
       "      <td>77322.000000</td>\n",
       "      <td>0.0</td>\n",
       "      <td>0.0</td>\n",
       "      <td>0.0</td>\n",
       "      <td>0.0</td>\n",
       "      <td>0.0</td>\n",
       "      <td>0.0</td>\n",
       "      <td>0.0</td>\n",
       "      <td>0.0</td>\n",
       "      <td>...</td>\n",
       "      <td>0.0</td>\n",
       "      <td>0.0</td>\n",
       "      <td>0.0</td>\n",
       "      <td>0.0</td>\n",
       "      <td>0.0</td>\n",
       "      <td>0.0</td>\n",
       "      <td>0.0</td>\n",
       "      <td>0.0</td>\n",
       "      <td>0.0</td>\n",
       "      <td>0.0</td>\n",
       "    </tr>\n",
       "    <tr>\n",
       "      <th>Percent</th>\n",
       "      <td>86.654713</td>\n",
       "      <td>86.654713</td>\n",
       "      <td>0.0</td>\n",
       "      <td>0.0</td>\n",
       "      <td>0.0</td>\n",
       "      <td>0.0</td>\n",
       "      <td>0.0</td>\n",
       "      <td>0.0</td>\n",
       "      <td>0.0</td>\n",
       "      <td>0.0</td>\n",
       "      <td>...</td>\n",
       "      <td>0.0</td>\n",
       "      <td>0.0</td>\n",
       "      <td>0.0</td>\n",
       "      <td>0.0</td>\n",
       "      <td>0.0</td>\n",
       "      <td>0.0</td>\n",
       "      <td>0.0</td>\n",
       "      <td>0.0</td>\n",
       "      <td>0.0</td>\n",
       "      <td>0.0</td>\n",
       "    </tr>\n",
       "  </tbody>\n",
       "</table>\n",
       "<p>2 rows × 175 columns</p>\n",
       "</div>"
      ],
      "text/plain": [
       "           USER_AGENT          CITY  EVENT_MONTH  MAX_PHONE_ORDER_PAST_30DAY  \\\n",
       "Total    77322.000000  77322.000000          0.0                         0.0   \n",
       "Percent     86.654713     86.654713          0.0                         0.0   \n",
       "\n",
       "         MEAN_TRAVEL_AND_ENTERTAINMENT_PAST_30DAY  MEAN_WEEKEND_PAST_30DAY  \\\n",
       "Total                                         0.0                      0.0   \n",
       "Percent                                       0.0                      0.0   \n",
       "\n",
       "         MAX_AUTO_PAST_30DAY  MAX_LS_PAST_30DAY  MAX_ELCTRNCS_PAST_30DAY  \\\n",
       "Total                    0.0                0.0                      0.0   \n",
       "Percent                  0.0                0.0                      0.0   \n",
       "\n",
       "         MAX_FASTFOOD_PAST_30DAY  ...  MAX_RECREA_PAST_7DAY  \\\n",
       "Total                        0.0  ...                   0.0   \n",
       "Percent                      0.0  ...                   0.0   \n",
       "\n",
       "         MAX_HIGH_AMT_PAST_7DAY  MAX_HIGH_RECREA_PAST_7DAY  \\\n",
       "Total                       0.0                        0.0   \n",
       "Percent                     0.0                        0.0   \n",
       "\n",
       "         MAX_INTERNET_PAST_7DAY  MAX_PHONE_ORDER_PAST_7DAY  \\\n",
       "Total                       0.0                        0.0   \n",
       "Percent                     0.0                        0.0   \n",
       "\n",
       "         MAX_PURCHASE_EXCLUDING_GAS_PAST_7DAY  MAX_SWIPE_PAST_7DAY  \\\n",
       "Total                                     0.0                  0.0   \n",
       "Percent                                   0.0                  0.0   \n",
       "\n",
       "         MAX_WEEKEND_PAST_7DAY  STD_LX_PAST_7DAY  PREV_M_UNEMP_RATE  \n",
       "Total                      0.0               0.0                0.0  \n",
       "Percent                    0.0               0.0                0.0  \n",
       "\n",
       "[2 rows x 175 columns]"
      ]
     },
     "execution_count": 67,
     "metadata": {},
     "output_type": "execute_result"
    }
   ],
   "source": [
    "total = data.isnull().sum().sort_values(ascending = False)\n",
    "percent = (data.isnull().sum()/data.isnull().count()*100).sort_values(ascending = False)\n",
    "pd.concat([total, percent], axis=1, keys=['Total', 'Percent']).transpose()"
   ]
  },
  {
   "cell_type": "code",
   "execution_count": 68,
   "metadata": {},
   "outputs": [
    {
     "name": "stdout",
     "output_type": "stream",
     "text": [
      "0.024139863274683402\n"
     ]
    }
   ],
   "source": [
    "num_fraudulent = fraudulent_data.shape[0]\n",
    "num_total = data.shape[0]\n",
    "\n",
    "p_fraudulent = num_fraudulent / num_total\n",
    "print(p_fraudulent)"
   ]
  },
  {
   "attachments": {},
   "cell_type": "markdown",
   "metadata": {},
   "source": [
    "Suggests that the data is heavily unbalanced."
   ]
  },
  {
   "cell_type": "code",
   "execution_count": 33,
   "metadata": {},
   "outputs": [
    {
     "name": "stdout",
     "output_type": "stream",
     "text": [
      "(89230, 175)\n"
     ]
    }
   ],
   "source": [
    "print(data.shape)"
   ]
  },
  {
   "attachments": {},
   "cell_type": "markdown",
   "metadata": {},
   "source": [
    "\\section{Using PCA on Data}"
   ]
  },
  {
   "cell_type": "code",
   "execution_count": 69,
   "metadata": {},
   "outputs": [
    {
     "name": "stdout",
     "output_type": "stream",
     "text": [
      "0    1.0\n",
      "1    0.0\n",
      "2    0.0\n",
      "3    0.0\n",
      "4    0.0\n",
      "Name: FRAUD_FLAG, dtype: float64\n",
      "   CREDIT_LIMIT  MEAN_AUTO_PAST_7DAY  MEAN_LS_PAST_7DAY  \\\n",
      "0       29200.0                46.65               0.00   \n",
      "1       30700.0                 0.00               0.00   \n",
      "2       19500.0                 0.00               0.00   \n",
      "3       18400.0                23.40             123.58   \n",
      "4       29200.0                 4.61               0.00   \n",
      "\n",
      "   MEAN_RECREA_PAST_7DAY  MEAN_REG_AMT_PAST_7DAY  MEAN_FASTFOOD_PAST_7DAY  \\\n",
      "0                1600.03                  158.88                     0.00   \n",
      "1                   0.00                  243.75                     0.00   \n",
      "2                 113.26                 2305.18                    22.55   \n",
      "3                  66.91                   78.00                     0.00   \n",
      "4                   0.00                    0.00                     0.00   \n",
      "\n",
      "   MEAN_HIGH_AMT_PAST_7DAY  MEAN_HIGH_RECREA_PAST_7DAY  \\\n",
      "0                  1034.48                        0.00   \n",
      "1                   389.18                        0.00   \n",
      "2                  2447.41                        7.17   \n",
      "3                   253.18                       34.17   \n",
      "4                     0.00                        0.00   \n",
      "\n",
      "   MEAN_INTERNET_PAST_7DAY  MEAN_INTERNATIONAL_PAST_7DAY  ...  \\\n",
      "0                   395.85                           0.0  ...   \n",
      "1                   250.82                           0.0  ...   \n",
      "2                  2681.25                           0.0  ...   \n",
      "3                    75.08                           0.0  ...   \n",
      "4                     0.00                           0.0  ...   \n",
      "\n",
      "   COUNT_LOW_AMT_PAST_30DAY  COUNT_MANUAL_ENTRY_PAST_30DAY  \\\n",
      "0                        16                             39   \n",
      "1                         1                             50   \n",
      "2                         9                              3   \n",
      "3                         4                              7   \n",
      "4                        11                              6   \n",
      "\n",
      "   COUNT_PHONE_ORDER_PAST_30DAY  COUNT_PURCHASE_EXCLUDING_GAS_PAST_30DAY  \\\n",
      "0                            73                                       60   \n",
      "1                            93                                       93   \n",
      "2                            42                                       42   \n",
      "3                            75                                       72   \n",
      "4                            41                                       42   \n",
      "\n",
      "   COUNT_PLANNED_PAST_30DAY  COUNT_SWIPE_PAST_30DAY  \\\n",
      "0                        13                      22   \n",
      "1                         0                       0   \n",
      "2                         2                      33   \n",
      "3                        12                      61   \n",
      "4                        10                      30   \n",
      "\n",
      "   COUNT_TRAVEL_AND_ENTERTAINMENT_PAST_30DAY  COUNT_WEEKEND_PAST_30DAY  \\\n",
      "0                                          4                        14   \n",
      "1                                          0                         0   \n",
      "2                                          0                        12   \n",
      "3                                          0                        20   \n",
      "4                                          4                        16   \n",
      "\n",
      "   PREV_M_INFLATION  PREV_M_UNEMP_RATE  \n",
      "0               1.1                5.7  \n",
      "1               1.1                5.7  \n",
      "2               1.1                5.7  \n",
      "3               1.1                5.7  \n",
      "4               1.1                5.7  \n",
      "\n",
      "[5 rows x 139 columns]\n"
     ]
    }
   ],
   "source": [
    "response_train = data['FRAUD_FLAG']\n",
    "explanatory_train = data.drop(['EVENT_MONTH', 'EVENT_DAY_OF_WEEK','EVENT_TIME','TRANSACTION_ID', \n",
    "    'FRAUD_FLAG','AVAIL_CRDT', 'AMOUNT', 'CARD_NOT_PRESENT', \n",
    "      'USER_AGENT', 'CITY', 'FLAG_LX', 'FLAG_ATM', 'FLAG_AUTO', 'FLAG_CASH',\n",
    "      'FLAG_LS', 'FLAG_DISCOUNT', 'FLAG_RECREA', 'FLAG_ELCTRNCS', 'FLAG_REG_AMT',\n",
    "      'FLAG_FASTFOOD', 'FLAG_GAS', 'FLAG_HIGH_AMT', 'FLAG_HIGH_RECREA', 'FLAG_INTERNET',\n",
    "      'FLAG_INTERNATIONAL', 'FLAG_JEWELRY', 'FLAG_LOW_AMT', 'FLAG_MANUAL_ENTRY',\n",
    "      'FLAG_PHONE_ORDER', 'FLAG_PURCHASE_EXCLUDING_GAS', 'FLAG_PLANNED', 'FLAG_RISKY',\n",
    "      'FLAG_SWIPE', 'FLAG_TRAVEL_ONLY', 'FLAG_TRAVEL_AND_ENTERTAINMENT', 'FLAG_WEEKEND'], axis=1)\n",
    "bernoulli_catergorical_train = data[['EVENT_MONTH', 'EVENT_DAY_OF_WEEK','EVENT_TIME','TRANSACTION_ID', \n",
    "      'AVAIL_CRDT', 'AMOUNT', 'CARD_NOT_PRESENT', \n",
    "      'USER_AGENT', 'CITY', 'FLAG_LX', 'FLAG_ATM', 'FLAG_AUTO', 'FLAG_CASH',\n",
    "      'FLAG_LS', 'FLAG_DISCOUNT', 'FLAG_RECREA', 'FLAG_ELCTRNCS', 'FLAG_REG_AMT',\n",
    "      'FLAG_FASTFOOD', 'FLAG_GAS', 'FLAG_HIGH_AMT', 'FLAG_HIGH_RECREA', 'FLAG_INTERNET',\n",
    "      'FLAG_INTERNATIONAL', 'FLAG_JEWELRY', 'FLAG_LOW_AMT', 'FLAG_MANUAL_ENTRY',\n",
    "      'FLAG_PHONE_ORDER', 'FLAG_PURCHASE_EXCLUDING_GAS', 'FLAG_PLANNED', 'FLAG_RISKY',\n",
    "      'FLAG_SWIPE', 'FLAG_TRAVEL_ONLY', 'FLAG_TRAVEL_AND_ENTERTAINMENT', 'FLAG_WEEKEND']]\n",
    "print(response_train.head())\n",
    "print(explanatory_train.head())"
   ]
  },
  {
   "cell_type": "code",
   "execution_count": 70,
   "metadata": {},
   "outputs": [
    {
     "name": "stdout",
     "output_type": "stream",
     "text": [
      "   EVENT_MONTH  EVENT_DAY_OF_WEEK EVENT_TIME TRANSACTION_ID  AVAIL_CRDT  \\\n",
      "0            2                  4      14:16       a316accb      537.10   \n",
      "1            2                  4      12:51       8352728b    20371.88   \n",
      "2            2                  4      15:26       d50120e1    15628.17   \n",
      "3            2                  4      16:19       e96e2139    12913.98   \n",
      "4            2                  4      8:15:       32502a99    26779.35   \n",
      "\n",
      "   AMOUNT  CARD_NOT_PRESENT  \\\n",
      "0   11.70                 1   \n",
      "1   96.35                 1   \n",
      "2  193.72                 0   \n",
      "3   47.15                 0   \n",
      "4  121.88                 1   \n",
      "\n",
      "                                          USER_AGENT      CITY  FLAG_LX  ...  \\\n",
      "0                                                NaN       NaN        0  ...   \n",
      "1  Mozilla/5.0 (iPhone; CPU OS 16_0 like Mac OS X...   lasalle        0  ...   \n",
      "2                                                NaN       NaN        0  ...   \n",
      "3                                                NaN       NaN        0  ...   \n",
      "4  Mozilla/5.0 (iPhone; CPU OS 16_0 like Mac OS X...  rockland        0  ...   \n",
      "\n",
      "   FLAG_LOW_AMT  FLAG_MANUAL_ENTRY  FLAG_PHONE_ORDER  \\\n",
      "0             0                  1                 1   \n",
      "1             0                  0                 1   \n",
      "2             0                  0                 0   \n",
      "3             0                  0                 0   \n",
      "4             0                  0                 1   \n",
      "\n",
      "   FLAG_PURCHASE_EXCLUDING_GAS  FLAG_PLANNED  FLAG_RISKY  FLAG_SWIPE  \\\n",
      "0                            1             0           0           0   \n",
      "1                            1             0           0           0   \n",
      "2                            1             0           0           1   \n",
      "3                            1             0           0           1   \n",
      "4                            1             0           0           0   \n",
      "\n",
      "   FLAG_TRAVEL_ONLY  FLAG_TRAVEL_AND_ENTERTAINMENT  FLAG_WEEKEND  \n",
      "0                 0                              0             0  \n",
      "1                 0                              0             0  \n",
      "2                 0                              0             0  \n",
      "3                 0                              0             0  \n",
      "4                 0                              0             0  \n",
      "\n",
      "[5 rows x 35 columns]\n"
     ]
    }
   ],
   "source": [
    "print(bernoulli_catergorical_train.head())"
   ]
  },
  {
   "cell_type": "code",
   "execution_count": 71,
   "metadata": {},
   "outputs": [
    {
     "name": "stdout",
     "output_type": "stream",
     "text": [
      "[[ 2.50407296e+01 -1.53315839e+00 -6.60782146e-01 ...  1.71594159e+00\n",
      "  -1.97972258e-01 -3.15504847e+00]\n",
      " [ 5.03842661e+00 -1.66233301e+00 -3.31565196e+00 ...  1.45869559e+00\n",
      "   1.06071571e+00  4.04107460e-02]\n",
      " [ 1.40154719e+01  2.83148011e+00 -7.28575387e+00 ... -1.49123633e-02\n",
      "   1.07253598e+00 -1.72738313e+00]\n",
      " ...\n",
      " [-3.97132990e+00  2.73424455e+00 -7.67776625e-01 ... -3.18765730e-01\n",
      "  -2.21318545e-01 -1.78539448e-01]\n",
      " [ 5.08861758e-01  2.36152055e-01 -1.57216175e+00 ...  8.80365675e-01\n",
      "   1.55937540e-01  5.99679612e-01]\n",
      " [ 1.94388055e+00 -1.82353600e+00  2.06497190e+00 ...  7.66380820e-01\n",
      "   7.56317131e-01  6.66026650e-01]]\n"
     ]
    }
   ],
   "source": [
    "standarized_data = StandardScaler().fit_transform(explanatory_train)\n",
    "pca = decomposition.PCA(n_components=28)\n",
    "pca_data = pca.fit_transform(standarized_data)\n",
    "print(pca_data)\n"
   ]
  },
  {
   "attachments": {},
   "cell_type": "markdown",
   "metadata": {},
   "source": [
    "\\subsection{Scree Plot}\n",
    "Determining number of factors we wish to use in our exploratory factor analysis to keep in a PCA."
   ]
  },
  {
   "cell_type": "code",
   "execution_count": 72,
   "metadata": {},
   "outputs": [
    {
     "data": {
      "text/plain": [
       "Text(0, 0.5, 'Retention value on scale of 1')"
      ]
     },
     "execution_count": 72,
     "metadata": {},
     "output_type": "execute_result"
    },
    {
     "data": {
      "image/png": "[encoded data removed]",
      "text/plain": [
       "<Figure size 640x480 with 1 Axes>"
      ]
     },
     "metadata": {},
     "output_type": "display_data"
    }
   ],
   "source": [
    "pca.n_components = 139\n",
    "\n",
    "retention_value = pca.explained_variance_ / np.sum(pca.explained_variance_);\n",
    "cumulative_retention = np.cumsum(retention_value)\n",
    "\n",
    "plt.plot(cumulative_retention)\n",
    "plt.grid()\n",
    "plt.xlabel('n_components')\n",
    "plt.ylabel('Retention value on scale of 1')"
   ]
  },
  {
   "cell_type": "code",
   "execution_count": 73,
   "metadata": {},
   "outputs": [
    {
     "name": "stdout",
     "output_type": "stream",
     "text": [
      "(89230, 28)\n"
     ]
    }
   ],
   "source": [
    "print(pca_data.shape)"
   ]
  }
 ],
 "metadata": {
  "kernelspec": {
   "display_name": "tf",
   "language": "python",
   "name": "python3"
  },
  "language_info": {
   "codemirror_mode": {
    "name": "ipython",
    "version": 3
   },
   "file_extension": ".py",
   "mimetype": "text/x-python",
   "name": "python",
   "nbconvert_exporter": "python",
   "pygments_lexer": "ipython3",
   "version": "3.10.8"
  },
  "orig_nbformat": 4,
  "vscode": {
   "interpreter": {
    "hash": "1c5cb5b334f6c31bff6c6644f0ade7cf82dce474b3cf7c3f6d2b64f1c3835513"
   }
  }
 },
 "nbformat": 4,
 "nbformat_minor": 2
}
