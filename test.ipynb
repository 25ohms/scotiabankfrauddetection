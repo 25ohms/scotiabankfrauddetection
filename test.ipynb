{
 "cells": [
  {
   "cell_type": "code",
   "execution_count": 2,
   "metadata": {},
   "outputs": [
    {
     "data": {
      "text/plain": [
       "['/Users/sahal/Documents/code/scotiabankfrauddetection',\n",
       " '/Users/sahal/.vscode/extensions/ms-toolsai.jupyter-2022.11.1003412109/pythonFiles',\n",
       " '/Users/sahal/.vscode/extensions/ms-toolsai.jupyter-2022.11.1003412109/pythonFiles/lib/python',\n",
       " '/Users/sahal/miniconda3/envs/tf/lib/python310.zip',\n",
       " '/Users/sahal/miniconda3/envs/tf/lib/python3.10',\n",
       " '/Users/sahal/miniconda3/envs/tf/lib/python3.10/lib-dynload',\n",
       " '',\n",
       " '/Users/sahal/miniconda3/envs/tf/lib/python3.10/site-packages']"
      ]
     },
     "execution_count": 2,
     "metadata": {},
     "output_type": "execute_result"
    }
   ],
   "source": [
    "import sys; sys.path"
   ]
  },
  {
   "attachments": {},
   "cell_type": "markdown",
   "metadata": {},
   "source": [
    "Imports that we are using"
   ]
  },
  {
   "cell_type": "code",
   "execution_count": 3,
   "metadata": {},
   "outputs": [],
   "source": [
    "import os \n",
    "import warnings\n",
    "\n",
    "import numpy as np\n",
    "import tensorflow as tf\n",
    "import pandas as pd\n",
    "from pandas import Series, DataFrame\n",
    "from sklearn.preprocessing import StandardScaler\n",
    "from sklearn.preprocessing import OneHotEncoder\n",
    "from sklearn.preprocessing import LabelEncoder\n",
    "from sklearn import decomposition\n",
    "\n",
    "\n",
    "#visuals\n",
    "import seaborn as sns\n",
    "import matplotlib.pyplot as plt\n"
   ]
  },
  {
   "attachments": {},
   "cell_type": "markdown",
   "metadata": {},
   "source": [
    "Checking to see that tensorflow works. Your output should contain a tf.tensor"
   ]
  },
  {
   "cell_type": "code",
   "execution_count": 4,
   "metadata": {},
   "outputs": [
    {
     "name": "stdout",
     "output_type": "stream",
     "text": [
      "tf.Tensor(1005.73987, shape=(), dtype=float32)\n"
     ]
    }
   ],
   "source": [
    "print(tf.reduce_sum(tf.random.normal([1000, 1000])))"
   ]
  },
  {
   "attachments": {},
   "cell_type": "markdown",
   "metadata": {},
   "source": [
    "Preliminary Graphing"
   ]
  },
  {
   "cell_type": "code",
   "execution_count": 5,
   "metadata": {},
   "outputs": [],
   "source": [
    "#Loading the dataset - abel\n",
    "train_url = \"https://raw.githubusercontent.com/25ohms/scotiabankfrauddetection/main/Winter%202023%20Discovery%20Days/train_ScotiaDSD.csv\"\n",
    "data = pd.read_csv(train_url)\n",
    "\n",
    "test_url = \"https://raw.githubusercontent.com/25ohms/scotiabankfrauddetection/main/Winter%202023%20Discovery%20Days/test_ScotiaDSD.csv\"\n",
    "test_data = pd.read_csv(test_url)\n",
    "\n",
    "\n",
    "credible_data = data[data['FRAUD_FLAG'] == 0.0] \n",
    "fraudulent_data = data[data['FRAUD_FLAG'] == 1.0]\n",
    "\n",
    "credible_data_test = test_data[test_data['FRAUD_FLAG'] == 0.0] \n",
    "fraudulent_data_test = test_data[test_data['FRAUD_FLAG'] == 1.0]\n"
   ]
  },
  {
   "cell_type": "code",
   "execution_count": 6,
   "metadata": {},
   "outputs": [
    {
     "name": "stdout",
     "output_type": "stream",
     "text": [
      "   EVENT_MONTH  EVENT_DAY_OF_WEEK EVENT_TIME TRANSACTION_ID  FRAUD_FLAG  \\\n",
      "1            2                  4      12:51       8352728b         0.0   \n",
      "2            2                  4      15:26       d50120e1         0.0   \n",
      "3            2                  4      16:19       e96e2139         0.0   \n",
      "4            2                  4      8:15:       32502a99         0.0   \n",
      "5            2                  4      16:27       1b4856fb         0.0   \n",
      "\n",
      "   AVAIL_CRDT  AMOUNT  CREDIT_LIMIT  CARD_NOT_PRESENT  \\\n",
      "1    20371.88   96.35       30700.0                 1   \n",
      "2    15628.17  193.72       19500.0                 0   \n",
      "3    12913.98   47.15       18400.0                 0   \n",
      "4    26779.35  121.88       29200.0                 1   \n",
      "5    27484.35    6.83       30700.0                 0   \n",
      "\n",
      "                                          USER_AGENT  ...  \\\n",
      "1  Mozilla/5.0 (iPhone; CPU OS 16_0 like Mac OS X...  ...   \n",
      "2                                                NaN  ...   \n",
      "3                                                NaN  ...   \n",
      "4  Mozilla/5.0 (iPhone; CPU OS 16_0 like Mac OS X...  ...   \n",
      "5                                                NaN  ...   \n",
      "\n",
      "  COUNT_LOW_AMT_PAST_30DAY  COUNT_MANUAL_ENTRY_PAST_30DAY  \\\n",
      "1                        1                             50   \n",
      "2                        9                              3   \n",
      "3                        4                              7   \n",
      "4                       11                              6   \n",
      "5                       11                              1   \n",
      "\n",
      "   COUNT_PHONE_ORDER_PAST_30DAY  COUNT_PURCHASE_EXCLUDING_GAS_PAST_30DAY  \\\n",
      "1                            93                                       93   \n",
      "2                            42                                       42   \n",
      "3                            75                                       72   \n",
      "4                            41                                       42   \n",
      "5                            55                                       53   \n",
      "\n",
      "   COUNT_PLANNED_PAST_30DAY  COUNT_SWIPE_PAST_30DAY  \\\n",
      "1                         0                       0   \n",
      "2                         2                      33   \n",
      "3                        12                      61   \n",
      "4                        10                      30   \n",
      "5                         7                      51   \n",
      "\n",
      "   COUNT_TRAVEL_AND_ENTERTAINMENT_PAST_30DAY  COUNT_WEEKEND_PAST_30DAY  \\\n",
      "1                                          0                         0   \n",
      "2                                          0                        12   \n",
      "3                                          0                        20   \n",
      "4                                          4                        16   \n",
      "5                                          0                        20   \n",
      "\n",
      "   PREV_M_INFLATION  PREV_M_UNEMP_RATE  \n",
      "1               1.1                5.7  \n",
      "2               1.1                5.7  \n",
      "3               1.1                5.7  \n",
      "4               1.1                5.7  \n",
      "5               1.1                5.7  \n",
      "\n",
      "[5 rows x 175 columns]\n"
     ]
    }
   ],
   "source": [
    "print(credible_data.head())"
   ]
  },
  {
   "cell_type": "code",
   "execution_count": 7,
   "metadata": {},
   "outputs": [
    {
     "name": "stdout",
     "output_type": "stream",
     "text": [
      "     EVENT_MONTH  EVENT_DAY_OF_WEEK EVENT_TIME TRANSACTION_ID  FRAUD_FLAG  \\\n",
      "0              2                  4      14:16       a316accb         1.0   \n",
      "24             2                  4      20:02       5fcc42f8         1.0   \n",
      "36             2                  4      19:59       0d060041         1.0   \n",
      "38             2                  4      12:30       74bbbe44         1.0   \n",
      "132            2                  4      16:28       c264fb24         1.0   \n",
      "\n",
      "     AVAIL_CRDT  AMOUNT  CREDIT_LIMIT  CARD_NOT_PRESENT  \\\n",
      "0        537.10   11.70       29200.0                 1   \n",
      "24      9016.80   50.23       21400.0                 1   \n",
      "36      3135.47   41.00       19500.0                 1   \n",
      "38       674.70  161.95        1000.0                 1   \n",
      "132     1314.30   44.08        5100.0                 1   \n",
      "\n",
      "                                            USER_AGENT  ...  \\\n",
      "0                                                  NaN  ...   \n",
      "24   Mozilla/5.0 (Windows NT 10.0; Win64; x64; rv:1...  ...   \n",
      "36   Mozilla/5.0 (Linux; U; Android 11; en-CA; moto...  ...   \n",
      "38   Mozilla/5.0 (iPhone; CPU OS 15_6_1 like Mac OS...  ...   \n",
      "132                                                NaN  ...   \n",
      "\n",
      "    COUNT_LOW_AMT_PAST_30DAY  COUNT_MANUAL_ENTRY_PAST_30DAY  \\\n",
      "0                         16                             39   \n",
      "24                        11                              2   \n",
      "36                         3                              2   \n",
      "38                         0                              0   \n",
      "132                        0                              2   \n",
      "\n",
      "     COUNT_PHONE_ORDER_PAST_30DAY  COUNT_PURCHASE_EXCLUDING_GAS_PAST_30DAY  \\\n",
      "0                              73                                       60   \n",
      "24                             16                                       16   \n",
      "36                             11                                       11   \n",
      "38                              0                                        0   \n",
      "132                             3                                        3   \n",
      "\n",
      "     COUNT_PLANNED_PAST_30DAY  COUNT_SWIPE_PAST_30DAY  \\\n",
      "0                          13                      22   \n",
      "24                          1                       0   \n",
      "36                          1                       1   \n",
      "38                          0                       0   \n",
      "132                         0                       0   \n",
      "\n",
      "     COUNT_TRAVEL_AND_ENTERTAINMENT_PAST_30DAY  COUNT_WEEKEND_PAST_30DAY  \\\n",
      "0                                            4                        14   \n",
      "24                                           0                         8   \n",
      "36                                           0                         1   \n",
      "38                                           0                         0   \n",
      "132                                          0                         0   \n",
      "\n",
      "     PREV_M_INFLATION  PREV_M_UNEMP_RATE  \n",
      "0                 1.1                5.7  \n",
      "24                1.1                5.7  \n",
      "36                1.1                5.7  \n",
      "38                1.1                5.7  \n",
      "132               1.1                5.7  \n",
      "\n",
      "[5 rows x 175 columns]\n"
     ]
    }
   ],
   "source": [
    "print(fraudulent_data.head())"
   ]
  },
  {
   "cell_type": "code",
   "execution_count": 8,
   "metadata": {},
   "outputs": [
    {
     "data": {
      "text/plain": [
       "Text(0, 0.5, 'Frequency')"
      ]
     },
     "execution_count": 8,
     "metadata": {},
     "output_type": "execute_result"
    },
    {
     "data": {
      "image/png": "[encoded data removed]",
      "text/plain": [
       "<Figure size 640x480 with 1 Axes>"
      ]
     },
     "metadata": {},
     "output_type": "display_data"
    }
   ],
   "source": [
    "#Transaction Distribution For Test and Train\n",
    "labels = ['Non-Frauds','Fraud']\n",
    "classes = pd.value_counts(data['FRAUD_FLAG'], sort = True)\n",
    "classes.plot(kind = 'bar', rot=0, color='pink')\n",
    "plt.title(\"Transaction Flag Distribution\")\n",
    "plt.xticks(range(2), labels)\n",
    "plt.xlabel(\"FRAUD FLAG\")\n",
    "plt.ylabel(\"Frequency\")"
   ]
  },
  {
   "attachments": {},
   "cell_type": "markdown",
   "metadata": {},
   "source": [
    "Checking to see if Data is null"
   ]
  },
  {
   "cell_type": "code",
   "execution_count": 9,
   "metadata": {},
   "outputs": [
    {
     "data": {
      "text/html": [
       "<div>\n",
       "<style scoped>\n",
       "    .dataframe tbody tr th:only-of-type {\n",
       "        vertical-align: middle;\n",
       "    }\n",
       "\n",
       "    .dataframe tbody tr th {\n",
       "        vertical-align: top;\n",
       "    }\n",
       "\n",
       "    .dataframe thead th {\n",
       "        text-align: right;\n",
       "    }\n",
       "</style>\n",
       "<table border=\"1\" class=\"dataframe\">\n",
       "  <thead>\n",
       "    <tr style=\"text-align: right;\">\n",
       "      <th></th>\n",
       "      <th>EVENT_MONTH</th>\n",
       "      <th>MAX_PHONE_ORDER_PAST_30DAY</th>\n",
       "      <th>MEAN_TRAVEL_AND_ENTERTAINMENT_PAST_30DAY</th>\n",
       "      <th>MEAN_WEEKEND_PAST_30DAY</th>\n",
       "      <th>MAX_AUTO_PAST_30DAY</th>\n",
       "      <th>MAX_LS_PAST_30DAY</th>\n",
       "      <th>MAX_ELCTRNCS_PAST_30DAY</th>\n",
       "      <th>MAX_FASTFOOD_PAST_30DAY</th>\n",
       "      <th>MAX_HIGH_RECREA_PAST_30DAY</th>\n",
       "      <th>MAX_MANUAL_ENTRY_PAST_30DAY</th>\n",
       "      <th>...</th>\n",
       "      <th>MAX_HIGH_RECREA_PAST_7DAY</th>\n",
       "      <th>MAX_INTERNET_PAST_7DAY</th>\n",
       "      <th>MAX_PHONE_ORDER_PAST_7DAY</th>\n",
       "      <th>MAX_PURCHASE_EXCLUDING_GAS_PAST_7DAY</th>\n",
       "      <th>MAX_SWIPE_PAST_7DAY</th>\n",
       "      <th>MAX_WEEKEND_PAST_7DAY</th>\n",
       "      <th>STD_LX_PAST_7DAY</th>\n",
       "      <th>PREV_M_UNEMP_RATE</th>\n",
       "      <th>CITY</th>\n",
       "      <th>USER_AGENT</th>\n",
       "    </tr>\n",
       "  </thead>\n",
       "  <tbody>\n",
       "    <tr>\n",
       "      <th>Total</th>\n",
       "      <td>0.0</td>\n",
       "      <td>0.0</td>\n",
       "      <td>0.0</td>\n",
       "      <td>0.0</td>\n",
       "      <td>0.0</td>\n",
       "      <td>0.0</td>\n",
       "      <td>0.0</td>\n",
       "      <td>0.0</td>\n",
       "      <td>0.0</td>\n",
       "      <td>0.0</td>\n",
       "      <td>...</td>\n",
       "      <td>0.0</td>\n",
       "      <td>0.0</td>\n",
       "      <td>0.0</td>\n",
       "      <td>0.0</td>\n",
       "      <td>0.0</td>\n",
       "      <td>0.0</td>\n",
       "      <td>0.0</td>\n",
       "      <td>0.0</td>\n",
       "      <td>NaN</td>\n",
       "      <td>NaN</td>\n",
       "    </tr>\n",
       "    <tr>\n",
       "      <th>Percent</th>\n",
       "      <td>0.0</td>\n",
       "      <td>0.0</td>\n",
       "      <td>0.0</td>\n",
       "      <td>0.0</td>\n",
       "      <td>0.0</td>\n",
       "      <td>0.0</td>\n",
       "      <td>0.0</td>\n",
       "      <td>0.0</td>\n",
       "      <td>0.0</td>\n",
       "      <td>0.0</td>\n",
       "      <td>...</td>\n",
       "      <td>0.0</td>\n",
       "      <td>0.0</td>\n",
       "      <td>0.0</td>\n",
       "      <td>0.0</td>\n",
       "      <td>0.0</td>\n",
       "      <td>0.0</td>\n",
       "      <td>0.0</td>\n",
       "      <td>0.0</td>\n",
       "      <td>NaN</td>\n",
       "      <td>NaN</td>\n",
       "    </tr>\n",
       "  </tbody>\n",
       "</table>\n",
       "<p>2 rows × 175 columns</p>\n",
       "</div>"
      ],
      "text/plain": [
       "         EVENT_MONTH  MAX_PHONE_ORDER_PAST_30DAY  \\\n",
       "Total            0.0                         0.0   \n",
       "Percent          0.0                         0.0   \n",
       "\n",
       "         MEAN_TRAVEL_AND_ENTERTAINMENT_PAST_30DAY  MEAN_WEEKEND_PAST_30DAY  \\\n",
       "Total                                         0.0                      0.0   \n",
       "Percent                                       0.0                      0.0   \n",
       "\n",
       "         MAX_AUTO_PAST_30DAY  MAX_LS_PAST_30DAY  MAX_ELCTRNCS_PAST_30DAY  \\\n",
       "Total                    0.0                0.0                      0.0   \n",
       "Percent                  0.0                0.0                      0.0   \n",
       "\n",
       "         MAX_FASTFOOD_PAST_30DAY  MAX_HIGH_RECREA_PAST_30DAY  \\\n",
       "Total                        0.0                         0.0   \n",
       "Percent                      0.0                         0.0   \n",
       "\n",
       "         MAX_MANUAL_ENTRY_PAST_30DAY  ...  MAX_HIGH_RECREA_PAST_7DAY  \\\n",
       "Total                            0.0  ...                        0.0   \n",
       "Percent                          0.0  ...                        0.0   \n",
       "\n",
       "         MAX_INTERNET_PAST_7DAY  MAX_PHONE_ORDER_PAST_7DAY  \\\n",
       "Total                       0.0                        0.0   \n",
       "Percent                     0.0                        0.0   \n",
       "\n",
       "         MAX_PURCHASE_EXCLUDING_GAS_PAST_7DAY  MAX_SWIPE_PAST_7DAY  \\\n",
       "Total                                     0.0                  0.0   \n",
       "Percent                                   0.0                  0.0   \n",
       "\n",
       "         MAX_WEEKEND_PAST_7DAY  STD_LX_PAST_7DAY  PREV_M_UNEMP_RATE  CITY  \\\n",
       "Total                      0.0               0.0                0.0   NaN   \n",
       "Percent                    0.0               0.0                0.0   NaN   \n",
       "\n",
       "         USER_AGENT  \n",
       "Total           NaN  \n",
       "Percent         NaN  \n",
       "\n",
       "[2 rows x 175 columns]"
      ]
     },
     "execution_count": 9,
     "metadata": {},
     "output_type": "execute_result"
    }
   ],
   "source": [
    "nullcheck = data.drop(['USER_AGENT', 'CITY'], axis=1)\n",
    "total = nullcheck.isnull().sum().sort_values(ascending = False)\n",
    "percent = (nullcheck.isnull().sum()/data.isnull().count()*100).sort_values(ascending = False)\n",
    "pd.concat([total, percent], axis=1, keys=['Total', 'Percent']).transpose()"
   ]
  },
  {
   "cell_type": "code",
   "execution_count": 10,
   "metadata": {},
   "outputs": [
    {
     "name": "stdout",
     "output_type": "stream",
     "text": [
      "0.024139863274683402\n"
     ]
    }
   ],
   "source": [
    "num_fraudulent = fraudulent_data.shape[0]\n",
    "num_total = data.shape[0]\n",
    "\n",
    "p_fraudulent = num_fraudulent / num_total\n",
    "print(p_fraudulent)"
   ]
  },
  {
   "attachments": {},
   "cell_type": "markdown",
   "metadata": {},
   "source": [
    "Suggests that the data is heavily unbalanced."
   ]
  },
  {
   "cell_type": "code",
   "execution_count": 11,
   "metadata": {},
   "outputs": [
    {
     "name": "stdout",
     "output_type": "stream",
     "text": [
      "(89230, 175)\n"
     ]
    }
   ],
   "source": [
    "print(data.shape)"
   ]
  },
  {
   "attachments": {},
   "cell_type": "markdown",
   "metadata": {},
   "source": [
    "Using PCA on Data"
   ]
  },
  {
   "cell_type": "code",
   "execution_count": 12,
   "metadata": {},
   "outputs": [
    {
     "name": "stdout",
     "output_type": "stream",
     "text": [
      "0    1.0\n",
      "1    0.0\n",
      "2    0.0\n",
      "3    0.0\n",
      "4    0.0\n",
      "Name: FRAUD_FLAG, dtype: float64\n",
      "   AVAIL_CRDT  AMOUNT  CREDIT_LIMIT  MEAN_AUTO_PAST_7DAY  MEAN_LS_PAST_7DAY  \\\n",
      "0      537.10   11.70       29200.0                46.65               0.00   \n",
      "1    20371.88   96.35       30700.0                 0.00               0.00   \n",
      "2    15628.17  193.72       19500.0                 0.00               0.00   \n",
      "3    12913.98   47.15       18400.0                23.40             123.58   \n",
      "4    26779.35  121.88       29200.0                 4.61               0.00   \n",
      "\n",
      "   MEAN_RECREA_PAST_7DAY  MEAN_REG_AMT_PAST_7DAY  MEAN_FASTFOOD_PAST_7DAY  \\\n",
      "0                1600.03                  158.88                     0.00   \n",
      "1                   0.00                  243.75                     0.00   \n",
      "2                 113.26                 2305.18                    22.55   \n",
      "3                  66.91                   78.00                     0.00   \n",
      "4                   0.00                    0.00                     0.00   \n",
      "\n",
      "   MEAN_HIGH_AMT_PAST_7DAY  MEAN_HIGH_RECREA_PAST_7DAY  ...  \\\n",
      "0                  1034.48                        0.00  ...   \n",
      "1                   389.18                        0.00  ...   \n",
      "2                  2447.41                        7.17  ...   \n",
      "3                   253.18                       34.17  ...   \n",
      "4                     0.00                        0.00  ...   \n",
      "\n",
      "   COUNT_LOW_AMT_PAST_30DAY  COUNT_MANUAL_ENTRY_PAST_30DAY  \\\n",
      "0                        16                             39   \n",
      "1                         1                             50   \n",
      "2                         9                              3   \n",
      "3                         4                              7   \n",
      "4                        11                              6   \n",
      "\n",
      "   COUNT_PHONE_ORDER_PAST_30DAY  COUNT_PURCHASE_EXCLUDING_GAS_PAST_30DAY  \\\n",
      "0                            73                                       60   \n",
      "1                            93                                       93   \n",
      "2                            42                                       42   \n",
      "3                            75                                       72   \n",
      "4                            41                                       42   \n",
      "\n",
      "   COUNT_PLANNED_PAST_30DAY  COUNT_SWIPE_PAST_30DAY  \\\n",
      "0                        13                      22   \n",
      "1                         0                       0   \n",
      "2                         2                      33   \n",
      "3                        12                      61   \n",
      "4                        10                      30   \n",
      "\n",
      "   COUNT_TRAVEL_AND_ENTERTAINMENT_PAST_30DAY  COUNT_WEEKEND_PAST_30DAY  \\\n",
      "0                                          4                        14   \n",
      "1                                          0                         0   \n",
      "2                                          0                        12   \n",
      "3                                          0                        20   \n",
      "4                                          4                        16   \n",
      "\n",
      "   PREV_M_INFLATION  PREV_M_UNEMP_RATE  \n",
      "0               1.1                5.7  \n",
      "1               1.1                5.7  \n",
      "2               1.1                5.7  \n",
      "3               1.1                5.7  \n",
      "4               1.1                5.7  \n",
      "\n",
      "[5 rows x 141 columns]\n"
     ]
    }
   ],
   "source": [
    "response_train = data['FRAUD_FLAG']\n",
    "numerical_train = data.drop(['EVENT_MONTH', 'EVENT_DAY_OF_WEEK','EVENT_TIME','TRANSACTION_ID', \n",
    "    'FRAUD_FLAG','CARD_NOT_PRESENT', \n",
    "      'USER_AGENT', 'CITY', 'FLAG_LX', 'FLAG_ATM', 'FLAG_AUTO', 'FLAG_CASH',\n",
    "      'FLAG_LS', 'FLAG_DISCOUNT', 'FLAG_RECREA', 'FLAG_ELCTRNCS', 'FLAG_REG_AMT',\n",
    "      'FLAG_FASTFOOD', 'FLAG_GAS', 'FLAG_HIGH_AMT', 'FLAG_HIGH_RECREA', 'FLAG_INTERNET',\n",
    "      'FLAG_INTERNATIONAL', 'FLAG_JEWELRY', 'FLAG_LOW_AMT', 'FLAG_MANUAL_ENTRY',\n",
    "      'FLAG_PHONE_ORDER', 'FLAG_PURCHASE_EXCLUDING_GAS', 'FLAG_PLANNED', 'FLAG_RISKY',\n",
    "      'FLAG_SWIPE', 'FLAG_TRAVEL_ONLY', 'FLAG_TRAVEL_AND_ENTERTAINMENT', 'FLAG_WEEKEND'], axis=1)\n",
    "\n",
    "numerical_test = test_data.drop(['EVENT_MONTH', 'EVENT_DAY_OF_WEEK','EVENT_TIME','TRANSACTION_ID', \n",
    "    'FRAUD_FLAG','CARD_NOT_PRESENT', \n",
    "      'USER_AGENT', 'CITY', 'FLAG_LX', 'FLAG_ATM', 'FLAG_AUTO', 'FLAG_CASH',\n",
    "      'FLAG_LS', 'FLAG_DISCOUNT', 'FLAG_RECREA', 'FLAG_ELCTRNCS', 'FLAG_REG_AMT',\n",
    "      'FLAG_FASTFOOD', 'FLAG_GAS', 'FLAG_HIGH_AMT', 'FLAG_HIGH_RECREA', 'FLAG_INTERNET',\n",
    "      'FLAG_INTERNATIONAL', 'FLAG_JEWELRY', 'FLAG_LOW_AMT', 'FLAG_MANUAL_ENTRY',\n",
    "      'FLAG_PHONE_ORDER', 'FLAG_PURCHASE_EXCLUDING_GAS', 'FLAG_PLANNED', 'FLAG_RISKY',\n",
    "      'FLAG_SWIPE', 'FLAG_TRAVEL_ONLY', 'FLAG_TRAVEL_AND_ENTERTAINMENT', 'FLAG_WEEKEND'], axis=1)  \n",
    "\n",
    "bernoulli_catergorical_train = data[['EVENT_MONTH', 'EVENT_DAY_OF_WEEK','EVENT_TIME','TRANSACTION_ID', 'CARD_NOT_PRESENT', \n",
    "      'USER_AGENT', 'CITY', 'FLAG_LX', 'FLAG_ATM', 'FLAG_AUTO', 'FLAG_CASH',\n",
    "      'FLAG_LS', 'FLAG_DISCOUNT', 'FLAG_RECREA', 'FLAG_ELCTRNCS', 'FLAG_REG_AMT',\n",
    "      'FLAG_FASTFOOD', 'FLAG_GAS', 'FLAG_HIGH_AMT', 'FLAG_HIGH_RECREA', 'FLAG_INTERNET',\n",
    "      'FLAG_INTERNATIONAL', 'FLAG_JEWELRY', 'FLAG_LOW_AMT', 'FLAG_MANUAL_ENTRY',\n",
    "      'FLAG_PHONE_ORDER', 'FLAG_PURCHASE_EXCLUDING_GAS', 'FLAG_PLANNED', 'FLAG_RISKY',\n",
    "      'FLAG_SWIPE', 'FLAG_TRAVEL_ONLY', 'FLAG_TRAVEL_AND_ENTERTAINMENT', 'FLAG_WEEKEND']]\n",
    "\n",
    "bernoulli_catergorical_test = test_data[['EVENT_MONTH', 'EVENT_DAY_OF_WEEK','EVENT_TIME','TRANSACTION_ID', 'CARD_NOT_PRESENT', \n",
    "      'USER_AGENT', 'CITY', 'FLAG_LX', 'FLAG_ATM', 'FLAG_AUTO', 'FLAG_CASH',\n",
    "      'FLAG_LS', 'FLAG_DISCOUNT', 'FLAG_RECREA', 'FLAG_ELCTRNCS', 'FLAG_REG_AMT',\n",
    "      'FLAG_FASTFOOD', 'FLAG_GAS', 'FLAG_HIGH_AMT', 'FLAG_HIGH_RECREA', 'FLAG_INTERNET',\n",
    "      'FLAG_INTERNATIONAL', 'FLAG_JEWELRY', 'FLAG_LOW_AMT', 'FLAG_MANUAL_ENTRY',\n",
    "      'FLAG_PHONE_ORDER', 'FLAG_PURCHASE_EXCLUDING_GAS', 'FLAG_PLANNED', 'FLAG_RISKY',\n",
    "      'FLAG_SWIPE', 'FLAG_TRAVEL_ONLY', 'FLAG_TRAVEL_AND_ENTERTAINMENT', 'FLAG_WEEKEND']]   \n",
    "         \n",
    "print(response_train.head())\n",
    "print(numerical_train.head())"
   ]
  },
  {
   "cell_type": "code",
   "execution_count": 13,
   "metadata": {},
   "outputs": [
    {
     "name": "stdout",
     "output_type": "stream",
     "text": [
      "   EVENT_MONTH  EVENT_DAY_OF_WEEK EVENT_TIME TRANSACTION_ID  CARD_NOT_PRESENT  \\\n",
      "0            2                  4      14:16       a316accb                 1   \n",
      "1            2                  4      12:51       8352728b                 1   \n",
      "2            2                  4      15:26       d50120e1                 0   \n",
      "3            2                  4      16:19       e96e2139                 0   \n",
      "4            2                  4      8:15:       32502a99                 1   \n",
      "\n",
      "                                          USER_AGENT      CITY  FLAG_LX  \\\n",
      "0                                                NaN       NaN        0   \n",
      "1  Mozilla/5.0 (iPhone; CPU OS 16_0 like Mac OS X...   lasalle        0   \n",
      "2                                                NaN       NaN        0   \n",
      "3                                                NaN       NaN        0   \n",
      "4  Mozilla/5.0 (iPhone; CPU OS 16_0 like Mac OS X...  rockland        0   \n",
      "\n",
      "   FLAG_ATM  FLAG_AUTO  ...  FLAG_LOW_AMT  FLAG_MANUAL_ENTRY  \\\n",
      "0         0          1  ...             0                  1   \n",
      "1         0          0  ...             0                  0   \n",
      "2         0          0  ...             0                  0   \n",
      "3         0          0  ...             0                  0   \n",
      "4         0          0  ...             0                  0   \n",
      "\n",
      "   FLAG_PHONE_ORDER  FLAG_PURCHASE_EXCLUDING_GAS  FLAG_PLANNED  FLAG_RISKY  \\\n",
      "0                 1                            1             0           0   \n",
      "1                 1                            1             0           0   \n",
      "2                 0                            1             0           0   \n",
      "3                 0                            1             0           0   \n",
      "4                 1                            1             0           0   \n",
      "\n",
      "   FLAG_SWIPE  FLAG_TRAVEL_ONLY  FLAG_TRAVEL_AND_ENTERTAINMENT  FLAG_WEEKEND  \n",
      "0           0                 0                              0             0  \n",
      "1           0                 0                              0             0  \n",
      "2           1                 0                              0             0  \n",
      "3           1                 0                              0             0  \n",
      "4           0                 0                              0             0  \n",
      "\n",
      "[5 rows x 33 columns]\n"
     ]
    }
   ],
   "source": [
    "print(bernoulli_catergorical_train.head())"
   ]
  },
  {
   "cell_type": "code",
   "execution_count": 14,
   "metadata": {},
   "outputs": [
    {
     "name": "stdout",
     "output_type": "stream",
     "text": [
      "[[ 2.49851876e+01 -1.50537896e+00 -7.18946906e-01 ... -2.18965371e+00\n",
      "  -2.39883795e-01  4.07092501e-01]\n",
      " [ 5.04899085e+00 -1.68724981e+00 -3.31084148e+00 ...  6.36875563e-02\n",
      "  -5.92963202e-02 -7.85065663e-01]\n",
      " [ 1.40228462e+01  2.84141418e+00 -7.27952100e+00 ... -9.92458810e-01\n",
      "   8.70167448e-01  2.21001730e-01]\n",
      " ...\n",
      " [-3.97972689e+00  2.80988790e+00 -7.90077237e-01 ...  2.35465679e-01\n",
      "  -1.70250053e-01  2.20772573e-01]\n",
      " [ 5.26798143e-01  1.49179601e-01 -1.52207272e+00 ...  1.85116205e-01\n",
      "  -5.10286159e-01 -8.10731703e-03]\n",
      " [ 1.95060225e+00 -1.88977733e+00  2.08558931e+00 ... -2.69899083e-01\n",
      "   3.88420830e-01 -8.21760390e-01]]\n"
     ]
    }
   ],
   "source": [
    "standarized_data = StandardScaler().fit_transform(numerical_train)\n",
    "pca = decomposition.PCA(n_components=0.95)\n",
    "pca_data = pca.fit_transform(standarized_data)\n",
    "print(pca_data)\n"
   ]
  },
  {
   "attachments": {},
   "cell_type": "markdown",
   "metadata": {},
   "source": [
    "Scree Plot\n",
    "Determining number of factors we wish to use in our exploratory factor analysis to keep in a PCA."
   ]
  },
  {
   "cell_type": "code",
   "execution_count": 19,
   "metadata": {},
   "outputs": [
    {
     "data": {
      "text/plain": [
       "Text(0, 0.5, 'Retention value on scale of 1')"
      ]
     },
     "execution_count": 19,
     "metadata": {},
     "output_type": "execute_result"
    },
    {
     "data": {
      "image/png": "[encoded data removed]",
      "text/plain": [
       "<Figure size 640x480 with 1 Axes>"
      ]
     },
     "metadata": {},
     "output_type": "display_data"
    }
   ],
   "source": [
    "pca.n_components = 141\n",
    "\n",
    "retention_value = pca.explained_variance_ / np.sum(pca.explained_variance_);\n",
    "cumulative_retention = np.cumsum(retention_value)\n",
    "\n",
    "plt.plot(cumulative_retention)\n",
    "plt.grid()\n",
    "plt.xlabel('n_components')\n",
    "plt.ylabel('Retention value on scale of 1')"
   ]
  },
  {
   "cell_type": "code",
   "execution_count": 18,
   "metadata": {},
   "outputs": [
    {
     "name": "stdout",
     "output_type": "stream",
     "text": [
      "(89230, 72)\n"
     ]
    }
   ],
   "source": [
    "print(pca_data.shape)"
   ]
  },
  {
   "cell_type": "code",
   "execution_count": 17,
   "metadata": {},
   "outputs": [
    {
     "name": "stdout",
     "output_type": "stream",
     "text": [
      "<class 'pandas.core.frame.DataFrame'>\n",
      "RangeIndex: 89230 entries, 0 to 89229\n",
      "Data columns (total 33 columns):\n",
      " #   Column                         Non-Null Count  Dtype \n",
      "---  ------                         --------------  ----- \n",
      " 0   EVENT_MONTH                    89230 non-null  int64 \n",
      " 1   EVENT_DAY_OF_WEEK              89230 non-null  int64 \n",
      " 2   EVENT_TIME                     89230 non-null  object\n",
      " 3   TRANSACTION_ID                 89230 non-null  object\n",
      " 4   CARD_NOT_PRESENT               89230 non-null  int64 \n",
      " 5   USER_AGENT                     11908 non-null  object\n",
      " 6   CITY                           11908 non-null  object\n",
      " 7   FLAG_LX                        89230 non-null  int64 \n",
      " 8   FLAG_ATM                       89230 non-null  int64 \n",
      " 9   FLAG_AUTO                      89230 non-null  int64 \n",
      " 10  FLAG_CASH                      89230 non-null  int64 \n",
      " 11  FLAG_LS                        89230 non-null  int64 \n",
      " 12  FLAG_DISCOUNT                  89230 non-null  int64 \n",
      " 13  FLAG_RECREA                    89230 non-null  int64 \n",
      " 14  FLAG_ELCTRNCS                  89230 non-null  int64 \n",
      " 15  FLAG_REG_AMT                   89230 non-null  int64 \n",
      " 16  FLAG_FASTFOOD                  89230 non-null  int64 \n",
      " 17  FLAG_GAS                       89230 non-null  int64 \n",
      " 18  FLAG_HIGH_AMT                  89230 non-null  int64 \n",
      " 19  FLAG_HIGH_RECREA               89230 non-null  int64 \n",
      " 20  FLAG_INTERNET                  89230 non-null  int64 \n",
      " 21  FLAG_INTERNATIONAL             89230 non-null  int64 \n",
      " 22  FLAG_JEWELRY                   89230 non-null  int64 \n",
      " 23  FLAG_LOW_AMT                   89230 non-null  int64 \n",
      " 24  FLAG_MANUAL_ENTRY              89230 non-null  int64 \n",
      " 25  FLAG_PHONE_ORDER               89230 non-null  int64 \n",
      " 26  FLAG_PURCHASE_EXCLUDING_GAS    89230 non-null  int64 \n",
      " 27  FLAG_PLANNED                   89230 non-null  int64 \n",
      " 28  FLAG_RISKY                     89230 non-null  int64 \n",
      " 29  FLAG_SWIPE                     89230 non-null  int64 \n",
      " 30  FLAG_TRAVEL_ONLY               89230 non-null  int64 \n",
      " 31  FLAG_TRAVEL_AND_ENTERTAINMENT  89230 non-null  int64 \n",
      " 32  FLAG_WEEKEND                   89230 non-null  int64 \n",
      "dtypes: int64(29), object(4)\n",
      "memory usage: 22.5+ MB\n",
      "None\n"
     ]
    }
   ],
   "source": [
    "print(bernoulli_catergorical_train.info(verbose=True))"
   ]
  },
  {
   "attachments": {},
   "cell_type": "markdown",
   "metadata": {},
   "source": [
    "/subsubsection{Label Encoding Bernoulli/Categorical Data}"
   ]
  },
  {
   "cell_type": "code",
   "execution_count": 21,
   "metadata": {},
   "outputs": [
    {
     "name": "stdout",
     "output_type": "stream",
     "text": [
      "<class 'pandas.core.frame.DataFrame'>\n",
      "RangeIndex: 89230 entries, 0 to 89229\n",
      "Data columns (total 33 columns):\n",
      " #   Column                         Non-Null Count  Dtype\n",
      "---  ------                         --------------  -----\n",
      " 0   EVENT_MONTH                    89230 non-null  int64\n",
      " 1   EVENT_DAY_OF_WEEK              89230 non-null  int64\n",
      " 2   EVENT_TIME                     89230 non-null  int64\n",
      " 3   TRANSACTION_ID                 89230 non-null  int64\n",
      " 4   CARD_NOT_PRESENT               89230 non-null  int64\n",
      " 5   USER_AGENT                     89230 non-null  int64\n",
      " 6   CITY                           89230 non-null  int64\n",
      " 7   FLAG_LX                        89230 non-null  int64\n",
      " 8   FLAG_ATM                       89230 non-null  int64\n",
      " 9   FLAG_AUTO                      89230 non-null  int64\n",
      " 10  FLAG_CASH                      89230 non-null  int64\n",
      " 11  FLAG_LS                        89230 non-null  int64\n",
      " 12  FLAG_DISCOUNT                  89230 non-null  int64\n",
      " 13  FLAG_RECREA                    89230 non-null  int64\n",
      " 14  FLAG_ELCTRNCS                  89230 non-null  int64\n",
      " 15  FLAG_REG_AMT                   89230 non-null  int64\n",
      " 16  FLAG_FASTFOOD                  89230 non-null  int64\n",
      " 17  FLAG_GAS                       89230 non-null  int64\n",
      " 18  FLAG_HIGH_AMT                  89230 non-null  int64\n",
      " 19  FLAG_HIGH_RECREA               89230 non-null  int64\n",
      " 20  FLAG_INTERNET                  89230 non-null  int64\n",
      " 21  FLAG_INTERNATIONAL             89230 non-null  int64\n",
      " 22  FLAG_JEWELRY                   89230 non-null  int64\n",
      " 23  FLAG_LOW_AMT                   89230 non-null  int64\n",
      " 24  FLAG_MANUAL_ENTRY              89230 non-null  int64\n",
      " 25  FLAG_PHONE_ORDER               89230 non-null  int64\n",
      " 26  FLAG_PURCHASE_EXCLUDING_GAS    89230 non-null  int64\n",
      " 27  FLAG_PLANNED                   89230 non-null  int64\n",
      " 28  FLAG_RISKY                     89230 non-null  int64\n",
      " 29  FLAG_SWIPE                     89230 non-null  int64\n",
      " 30  FLAG_TRAVEL_ONLY               89230 non-null  int64\n",
      " 31  FLAG_TRAVEL_AND_ENTERTAINMENT  89230 non-null  int64\n",
      " 32  FLAG_WEEKEND                   89230 non-null  int64\n",
      "dtypes: int64(33)\n",
      "memory usage: 22.5 MB\n",
      "None\n",
      "<class 'pandas.core.frame.DataFrame'>\n",
      "RangeIndex: 22307 entries, 0 to 22306\n",
      "Data columns (total 33 columns):\n",
      " #   Column                         Non-Null Count  Dtype\n",
      "---  ------                         --------------  -----\n",
      " 0   EVENT_MONTH                    22307 non-null  int64\n",
      " 1   EVENT_DAY_OF_WEEK              22307 non-null  int64\n",
      " 2   EVENT_TIME                     22307 non-null  int64\n",
      " 3   TRANSACTION_ID                 22307 non-null  int64\n",
      " 4   CARD_NOT_PRESENT               22307 non-null  int64\n",
      " 5   USER_AGENT                     22307 non-null  int64\n",
      " 6   CITY                           22307 non-null  int64\n",
      " 7   FLAG_LX                        22307 non-null  int64\n",
      " 8   FLAG_ATM                       22307 non-null  int64\n",
      " 9   FLAG_AUTO                      22307 non-null  int64\n",
      " 10  FLAG_CASH                      22307 non-null  int64\n",
      " 11  FLAG_LS                        22307 non-null  int64\n",
      " 12  FLAG_DISCOUNT                  22307 non-null  int64\n",
      " 13  FLAG_RECREA                    22307 non-null  int64\n",
      " 14  FLAG_ELCTRNCS                  22307 non-null  int64\n",
      " 15  FLAG_REG_AMT                   22307 non-null  int64\n",
      " 16  FLAG_FASTFOOD                  22307 non-null  int64\n",
      " 17  FLAG_GAS                       22307 non-null  int64\n",
      " 18  FLAG_HIGH_AMT                  22307 non-null  int64\n",
      " 19  FLAG_HIGH_RECREA               22307 non-null  int64\n",
      " 20  FLAG_INTERNET                  22307 non-null  int64\n",
      " 21  FLAG_INTERNATIONAL             22307 non-null  int64\n",
      " 22  FLAG_JEWELRY                   22307 non-null  int64\n",
      " 23  FLAG_LOW_AMT                   22307 non-null  int64\n",
      " 24  FLAG_MANUAL_ENTRY              22307 non-null  int64\n",
      " 25  FLAG_PHONE_ORDER               22307 non-null  int64\n",
      " 26  FLAG_PURCHASE_EXCLUDING_GAS    22307 non-null  int64\n",
      " 27  FLAG_PLANNED                   22307 non-null  int64\n",
      " 28  FLAG_RISKY                     22307 non-null  int64\n",
      " 29  FLAG_SWIPE                     22307 non-null  int64\n",
      " 30  FLAG_TRAVEL_ONLY               22307 non-null  int64\n",
      " 31  FLAG_TRAVEL_AND_ENTERTAINMENT  22307 non-null  int64\n",
      " 32  FLAG_WEEKEND                   22307 non-null  int64\n",
      "dtypes: int64(33)\n",
      "memory usage: 5.6 MB\n",
      "None\n"
     ]
    },
    {
     "name": "stderr",
     "output_type": "stream",
     "text": [
      "/var/folders/2r/86pfjpys1k771ybrfsqxg_8m0000gn/T/ipykernel_21999/4156888097.py:2: SettingWithCopyWarning: \n",
      "A value is trying to be set on a copy of a slice from a DataFrame.\n",
      "Try using .loc[row_indexer,col_indexer] = value instead\n",
      "\n",
      "See the caveats in the documentation: https://pandas.pydata.org/pandas-docs/stable/user_guide/indexing.html#returning-a-view-versus-a-copy\n",
      "  bernoulli_catergorical_train['CITY'] = label_encoder.fit_transform(bernoulli_catergorical_train['CITY'])\n",
      "/var/folders/2r/86pfjpys1k771ybrfsqxg_8m0000gn/T/ipykernel_21999/4156888097.py:3: SettingWithCopyWarning: \n",
      "A value is trying to be set on a copy of a slice from a DataFrame.\n",
      "Try using .loc[row_indexer,col_indexer] = value instead\n",
      "\n",
      "See the caveats in the documentation: https://pandas.pydata.org/pandas-docs/stable/user_guide/indexing.html#returning-a-view-versus-a-copy\n",
      "  bernoulli_catergorical_train['USER_AGENT'] = label_encoder.fit_transform(bernoulli_catergorical_train['USER_AGENT'])\n",
      "/var/folders/2r/86pfjpys1k771ybrfsqxg_8m0000gn/T/ipykernel_21999/4156888097.py:4: SettingWithCopyWarning: \n",
      "A value is trying to be set on a copy of a slice from a DataFrame.\n",
      "Try using .loc[row_indexer,col_indexer] = value instead\n",
      "\n",
      "See the caveats in the documentation: https://pandas.pydata.org/pandas-docs/stable/user_guide/indexing.html#returning-a-view-versus-a-copy\n",
      "  bernoulli_catergorical_train['EVENT_TIME'] = label_encoder.fit_transform(bernoulli_catergorical_train['EVENT_TIME'])\n",
      "/var/folders/2r/86pfjpys1k771ybrfsqxg_8m0000gn/T/ipykernel_21999/4156888097.py:5: SettingWithCopyWarning: \n",
      "A value is trying to be set on a copy of a slice from a DataFrame.\n",
      "Try using .loc[row_indexer,col_indexer] = value instead\n",
      "\n",
      "See the caveats in the documentation: https://pandas.pydata.org/pandas-docs/stable/user_guide/indexing.html#returning-a-view-versus-a-copy\n",
      "  bernoulli_catergorical_train['TRANSACTION_ID'] = label_encoder.fit_transform(bernoulli_catergorical_train['TRANSACTION_ID'])\n",
      "/var/folders/2r/86pfjpys1k771ybrfsqxg_8m0000gn/T/ipykernel_21999/4156888097.py:10: SettingWithCopyWarning: \n",
      "A value is trying to be set on a copy of a slice from a DataFrame.\n",
      "Try using .loc[row_indexer,col_indexer] = value instead\n",
      "\n",
      "See the caveats in the documentation: https://pandas.pydata.org/pandas-docs/stable/user_guide/indexing.html#returning-a-view-versus-a-copy\n",
      "  bernoulli_catergorical_test['CITY'] = label_encoder.fit_transform(bernoulli_catergorical_test['CITY'])\n",
      "/var/folders/2r/86pfjpys1k771ybrfsqxg_8m0000gn/T/ipykernel_21999/4156888097.py:11: SettingWithCopyWarning: \n",
      "A value is trying to be set on a copy of a slice from a DataFrame.\n",
      "Try using .loc[row_indexer,col_indexer] = value instead\n",
      "\n",
      "See the caveats in the documentation: https://pandas.pydata.org/pandas-docs/stable/user_guide/indexing.html#returning-a-view-versus-a-copy\n",
      "  bernoulli_catergorical_test['USER_AGENT'] = label_encoder.fit_transform(bernoulli_catergorical_test['USER_AGENT'])\n",
      "/var/folders/2r/86pfjpys1k771ybrfsqxg_8m0000gn/T/ipykernel_21999/4156888097.py:12: SettingWithCopyWarning: \n",
      "A value is trying to be set on a copy of a slice from a DataFrame.\n",
      "Try using .loc[row_indexer,col_indexer] = value instead\n",
      "\n",
      "See the caveats in the documentation: https://pandas.pydata.org/pandas-docs/stable/user_guide/indexing.html#returning-a-view-versus-a-copy\n",
      "  bernoulli_catergorical_test['EVENT_TIME'] = label_encoder.fit_transform(bernoulli_catergorical_test['EVENT_TIME'])\n",
      "/var/folders/2r/86pfjpys1k771ybrfsqxg_8m0000gn/T/ipykernel_21999/4156888097.py:13: SettingWithCopyWarning: \n",
      "A value is trying to be set on a copy of a slice from a DataFrame.\n",
      "Try using .loc[row_indexer,col_indexer] = value instead\n",
      "\n",
      "See the caveats in the documentation: https://pandas.pydata.org/pandas-docs/stable/user_guide/indexing.html#returning-a-view-versus-a-copy\n",
      "  bernoulli_catergorical_test['TRANSACTION_ID'] = label_encoder.fit_transform(bernoulli_catergorical_test['TRANSACTION_ID'])\n"
     ]
    }
   ],
   "source": [
    "label_encoder = LabelEncoder()\n",
    "bernoulli_catergorical_train['CITY'] = label_encoder.fit_transform(bernoulli_catergorical_train['CITY'])\n",
    "bernoulli_catergorical_train['USER_AGENT'] = label_encoder.fit_transform(bernoulli_catergorical_train['USER_AGENT'])\n",
    "bernoulli_catergorical_train['EVENT_TIME'] = label_encoder.fit_transform(bernoulli_catergorical_train['EVENT_TIME'])\n",
    "bernoulli_catergorical_train['TRANSACTION_ID'] = label_encoder.fit_transform(bernoulli_catergorical_train['TRANSACTION_ID'])\n",
    "\n",
    "print(bernoulli_catergorical_train.info(verbose=True))\n",
    "\n",
    "\n",
    "bernoulli_catergorical_test['CITY'] = label_encoder.fit_transform(bernoulli_catergorical_test['CITY'])\n",
    "bernoulli_catergorical_test['USER_AGENT'] = label_encoder.fit_transform(bernoulli_catergorical_test['USER_AGENT'])\n",
    "bernoulli_catergorical_test['EVENT_TIME'] = label_encoder.fit_transform(bernoulli_catergorical_test['EVENT_TIME'])\n",
    "bernoulli_catergorical_test['TRANSACTION_ID'] = label_encoder.fit_transform(bernoulli_catergorical_test['TRANSACTION_ID'])\n",
    "\n",
    "print(bernoulli_catergorical_test.info(verbose=True))\n"
   ]
  },
  {
   "cell_type": "code",
   "execution_count": 28,
   "metadata": {},
   "outputs": [
    {
     "name": "stdout",
     "output_type": "stream",
     "text": [
      "(89230, 1)\n"
     ]
    },
    {
     "data": {
      "text/plain": [
       "Text(0, 0.5, 'Retention value on scale of 1')"
      ]
     },
     "execution_count": 28,
     "metadata": {},
     "output_type": "execute_result"
    },
    {
     "data": {
      "image/png": "[encoded data removed]",
      "text/plain": [
       "<Figure size 640x480 with 1 Axes>"
      ]
     },
     "metadata": {},
     "output_type": "display_data"
    }
   ],
   "source": [
    "pca_b_c = decomposition.PCA(n_components=0.95)\n",
    "pca_b_c_train = pca_b_c.fit_transform(bernoulli_catergorical_train)\n",
    "print(pca_b_c_train.shape)\n",
    "\n",
    "pca_b_c.n_components = 33\n",
    "\n",
    "retention_value_b_c = pca_b_c.explained_variance_ / np.sum(pca.explained_variance_);\n",
    "cumulative_retention_b_c = np.cumsum(retention_value_b_c)\n",
    "\n",
    "plt.plot(cumulative_retention_b_c)\n",
    "plt.grid()\n",
    "plt.xlabel('n_components')\n",
    "plt.ylabel('Retention value on scale of 1')"
   ]
  }
 ],
 "metadata": {
  "kernelspec": {
   "display_name": "tf",
   "language": "python",
   "name": "python3"
  },
  "language_info": {
   "codemirror_mode": {
    "name": "ipython",
    "version": 3
   },
   "file_extension": ".py",
   "mimetype": "text/x-python",
   "name": "python",
   "nbconvert_exporter": "python",
   "pygments_lexer": "ipython3",
   "version": "3.10.8"
  },
  "orig_nbformat": 4,
  "vscode": {
   "interpreter": {
    "hash": "1c5cb5b334f6c31bff6c6644f0ade7cf82dce474b3cf7c3f6d2b64f1c3835513"
   }
  }
 },
 "nbformat": 4,
 "nbformat_minor": 2
}
